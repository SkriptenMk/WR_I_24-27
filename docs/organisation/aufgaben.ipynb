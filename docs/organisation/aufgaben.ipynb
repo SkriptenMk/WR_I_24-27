{
 "cells": [
  {
   "cell_type": "markdown",
   "metadata": {},
   "source": [
    "## Aufgaben zur Aufbauorganisation"
   ]
  },
  {
   "cell_type": "markdown",
   "metadata": {},
   "source": [
    "### Aufgabe 1\n",
    "\n",
    "Erstellen Sie ein Organigramm für die KBW. Orientieren Sie sich dabei an den\n",
    "\"Produkten\" IMS, HMS und Gymnasium."
   ]
  },
  {
   "cell_type": "markdown",
   "metadata": {},
   "source": [
    "```{admonition} Musterlösung Organigramm\n",
    ":class: tip, dropdown\n",
    "\n",
    "![Organigramm KBW](kbw_organigramm.svg)\n",
    "```"
   ]
  },
  {
   "cell_type": "markdown",
   "metadata": {},
   "source": []
  }
 ],
 "metadata": {
  "language_info": {
   "name": "python"
  }
 },
 "nbformat": 4,
 "nbformat_minor": 2
}
