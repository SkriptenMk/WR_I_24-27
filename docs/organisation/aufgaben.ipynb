{
 "cells": [
  {
   "cell_type": "markdown",
   "metadata": {},
   "source": [
    "## Aufgaben zur Aufbauorganisation"
   ]
  },
  {
   "cell_type": "markdown",
   "metadata": {},
   "source": [
    "### Aufgabe 1\n",
    "\n",
    "Erstellen Sie ein Organigramm für die KBW. Orientieren Sie sich dabei an den\n",
    "\"Produkten\" IMS, HMS und Gymnasium."
   ]
  },
  {
   "cell_type": "markdown",
   "metadata": {},
   "source": [
    "```{admonition} Musterlösung Organigramm\n",
    ":class: tip, dropdown\n",
    "\n",
    "![Organigramm KBW](kbw_organigramm.svg)\n",
    "```"
   ]
  },
  {
   "cell_type": "markdown",
   "metadata": {},
   "source": [
    "### Aufgabe 2\n",
    "\n",
    "Erstellen Sie eine Organisationsmatrix für die KBW."
   ]
  },
  {
   "cell_type": "markdown",
   "metadata": {},
   "source": [
    "```{admonition} Musterlösung Organisationsmatrix\n",
    ":class: tip, dropdown\n",
    "\n",
    "![Organisationsmatrix KBW](kbw_matrix.svg)\n",
    "```"
   ]
  },
  {
   "cell_type": "markdown",
   "metadata": {},
   "source": []
  }
 ],
 "metadata": {
  "language_info": {
   "name": "python"
  }
 },
 "nbformat": 4,
 "nbformat_minor": 2
}
