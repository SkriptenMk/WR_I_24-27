{
 "cells": [
  {
   "cell_type": "markdown",
   "metadata": {},
   "source": [
    "## Aufgaben zur Ablauforganisation"
   ]
  },
  {
   "cell_type": "markdown",
   "metadata": {},
   "source": [
    "Erstellen Sie basierend auf Ihrem Stundenplan an der KBW ein Swim-Lane-Diagramm."
   ]
  },
  {
   "cell_type": "markdown",
   "metadata": {},
   "source": [
    "```{admonition} Musterlösung Swim-Lane-Diagramm\n",
    ":class: tip, dropdown\n",
    "\n",
    "![Musterlösung Swim-Lane-Diagramm](ims_swim_lane.svg)\n",
    "\n",
    "Obiges Diagramm wurde mit LaTEX und TikZ erstellt. Alternativ kann ein ähnliches\n",
    "Diagramm auch mit\n",
    "[Excel](https://support.microsoft.com/en-us/office/add-swimlanes-to-a-flowchart-d794b112-8aa3-4360-8f12-e38bc62ad558)\n",
    "erstellt werden. \n",
    "``` "
   ]
  }
 ],
 "metadata": {
  "language_info": {
   "name": "python"
  }
 },
 "nbformat": 4,
 "nbformat_minor": 2
}
