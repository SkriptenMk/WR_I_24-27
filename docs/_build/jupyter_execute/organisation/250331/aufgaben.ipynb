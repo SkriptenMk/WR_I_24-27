{
 "cells": [
  {
   "cell_type": "markdown",
   "metadata": {},
   "source": [
    "## Aufgaben zur Ablauforganisation"
   ]
  },
  {
   "cell_type": "markdown",
   "metadata": {},
   "source": [
    "Erstellen Sie basierend auf Ihrem Stundenplan an der KBW ein Swim-Lane-Diagramm."
   ]
  },
  {
   "cell_type": "markdown",
   "metadata": {},
   "source": [
    "```{admonition} Musterlösung Swim-Lane-Diagramm\n",
    ":class: tip, dropdown\n",
    "\n",
    "![Musterlösung Swim-Lane-Diagramm](ims_swim_lane.svg)\n",
    "\n",
    "Obiges Diagramm wurde mit LaTEX und TikZ erstellt. Alternativ kann ein ähnliches\n",
    "Diagramm auch mit\n",
    "[Excel](https://support.microsoft.com/en-us/office/add-swimlanes-to-a-flowchart-d794b112-8aa3-4360-8f12-e38bc62ad558)\n",
    "erstellt werden. \n",
    "``` "
   ]
  }
 ],
 "metadata": {
  "language_info": {
   "codemirror_mode": {
    "name": "ipython",
    "version": 3
   },
   "file_extension": ".py",
   "mimetype": "text/x-python",
   "name": "python",
   "nbconvert_exporter": "python",
   "pygments_lexer": "ipython3",
   "version": "3.13.1"
  }
 },
 "nbformat": 4,
 "nbformat_minor": 2
}